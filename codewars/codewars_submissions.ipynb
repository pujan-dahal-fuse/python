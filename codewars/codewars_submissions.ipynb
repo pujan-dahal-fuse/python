{
 "cells": [
  {
   "cell_type": "markdown",
   "id": "7889b232",
   "metadata": {},
   "source": [
    "## Beginner Series \\#1 School Paperwork (8 kyu)"
   ]
  },
  {
   "cell_type": "code",
   "execution_count": 4,
   "id": "42a6ec8b",
   "metadata": {},
   "outputs": [],
   "source": [
    "def paperwork(n, m):\n",
    "    # Happy Coding! ^_^\n",
    "    if n < 0 or m < 0:\n",
    "        return 0\n",
    "    else:\n",
    "        return n*m"
   ]
  },
  {
   "cell_type": "markdown",
   "id": "35cf1a4c",
   "metadata": {},
   "source": [
    "## Multiply (8 kyu)"
   ]
  },
  {
   "cell_type": "code",
   "execution_count": 9,
   "id": "5690d751",
   "metadata": {},
   "outputs": [],
   "source": [
    "def multiply(a, b):\n",
    "    return a * b"
   ]
  },
  {
   "cell_type": "markdown",
   "id": "1da6d3a4",
   "metadata": {},
   "source": [
    "## Reversed Words (8 kyu)"
   ]
  },
  {
   "cell_type": "code",
   "execution_count": 5,
   "id": "b6678dcc",
   "metadata": {},
   "outputs": [],
   "source": [
    "def reverse_words(s):\n",
    "    word_list = list(s.split(' '))\n",
    "    reversed_list = word_list[::-1]\n",
    "    return ' '.join(reversed_list) #join the words in reversed list"
   ]
  },
  {
   "cell_type": "markdown",
   "id": "d25e3cfa",
   "metadata": {},
   "source": [
    "## Transportation on vacation (8 kyu)"
   ]
  },
  {
   "cell_type": "code",
   "execution_count": 6,
   "id": "044b9e50",
   "metadata": {},
   "outputs": [],
   "source": [
    "def rental_car_cost(d):\n",
    "    # your code\n",
    "    if d > 0 and d < 3:\n",
    "        return 40\n",
    "    elif d >= 3 and d < 7:\n",
    "        return d * 40 - 20\n",
    "    elif d >= 7:\n",
    "        return d * 40 - 50\n",
    "    else:\n",
    "        return 0"
   ]
  },
  {
   "cell_type": "markdown",
   "id": "d95ff79f",
   "metadata": {},
   "source": [
    "## Counting Valleys (7 kyu)"
   ]
  },
  {
   "cell_type": "code",
   "execution_count": 7,
   "id": "fc82c3e4",
   "metadata": {},
   "outputs": [],
   "source": [
    "# a variable to store entry\n",
    "# if entry = True and exit comes, then reset both and increment num_valley\n",
    "def counting_valleys(s): \n",
    "    # your code here\n",
    "    num_valley = 0\n",
    "    entry = False\n",
    "    level = 0\n",
    "    for char in s:\n",
    "        if char == 'D':\n",
    "            if level == 0:\n",
    "                entry = True\n",
    "            level -= 1\n",
    "        \n",
    "        elif char == 'U':\n",
    "            level += 1\n",
    "            if level == 0 and entry:\n",
    "                # this means it is exiting\n",
    "                entry = False\n",
    "                num_valley += 1\n",
    "        \n",
    "        else:\n",
    "            continue\n",
    "            \n",
    "    return num_valley"
   ]
  },
  {
   "cell_type": "markdown",
   "id": "45b39499",
   "metadata": {},
   "source": [
    "## Which color is the brightest (7 kyu)"
   ]
  },
  {
   "cell_type": "code",
   "execution_count": 21,
   "id": "4db4cc2b",
   "metadata": {},
   "outputs": [],
   "source": [
    "def color_val(color):\n",
    "    return max(color[1:3], color[3:5], color[5:7])\n",
    "\n",
    "def brightest(colors):\n",
    "    brightest = colors[0]\n",
    "    for color in colors:\n",
    "        if color_val(color) > color_val(brightest):\n",
    "            brightest = color\n",
    "    return brightest"
   ]
  },
  {
   "cell_type": "markdown",
   "id": "0d6e1de2",
   "metadata": {},
   "source": [
    "## Over The Road (7 kyu)"
   ]
  },
  {
   "cell_type": "code",
   "execution_count": 22,
   "id": "c6aafbbc",
   "metadata": {},
   "outputs": [],
   "source": [
    "# max even house number = 2*length\n",
    "# odd house number displacement from 1 = (address - 1)/2\n",
    "# result = max_even_house_num - 2*displacement\n",
    "def over_the_road(address, n):\n",
    "    return 2*n - (address - 1)"
   ]
  },
  {
   "cell_type": "markdown",
   "id": "aeefe7cc",
   "metadata": {},
   "source": [
    "## Remove anchor from URL (7 kyu)"
   ]
  },
  {
   "cell_type": "code",
   "execution_count": 25,
   "id": "c7e60257",
   "metadata": {},
   "outputs": [],
   "source": [
    "# if hash # found remove anything after it\n",
    "# loop through each character\n",
    "def remove_url_anchor(url):\n",
    "    for char in url:\n",
    "        if char == \"#\":\n",
    "            return url[:url.index(\"#\")]\n",
    "    return url"
   ]
  },
  {
   "cell_type": "markdown",
   "id": "4f509dc7",
   "metadata": {},
   "source": [
    "## Numbers Whish Sum of Powers of Its Digits Is The Same Number (7 kyu)"
   ]
  },
  {
   "cell_type": "code",
   "execution_count": 26,
   "id": "487bae4e",
   "metadata": {},
   "outputs": [],
   "source": [
    "def eq_sum_powdig(hMax, exp):\n",
    "    # your code here\n",
    "    num_list = []\n",
    "    for num in range(2, hMax+1):\n",
    "        result = 0\n",
    "        num_dupli = num\n",
    "        while num_dupli > 0: # unless the digits finish\n",
    "            result += (num_dupli % 10)**exp # power of remainder added\n",
    "            num_dupli = num_dupli // 10\n",
    "        if result == num:\n",
    "            num_list.append(num)\n",
    "    return num_list"
   ]
  },
  {
   "cell_type": "markdown",
   "id": "b9002e15",
   "metadata": {},
   "source": [
    "## Sum of odd numbers (7 kyu)"
   ]
  },
  {
   "cell_type": "code",
   "execution_count": 28,
   "id": "2347ba9b",
   "metadata": {},
   "outputs": [],
   "source": [
    "# rows begin with [1=1, 3=1+2*1, 7=1+2*1+2*2, 13, 21, ..., 1+2+2*2+2*3+...+2*(n-1))]\n",
    "# rows have [1, 2, 3, 4, ..., n] elements\n",
    "# start digit = 1+2+2^2+2^3+...+2^(n-1)\n",
    "# num_digits = n\n",
    "# sum = start_digit + (n-1) odd digits after it\n",
    "\n",
    "def row_sum_odd_numbers(n):\n",
    "    start_digit = 1\n",
    "    for i in range(1, n):\n",
    "        start_digit += 2*i\n",
    "    \n",
    "    sum_digits = 0\n",
    "    next_digit = start_digit\n",
    "    for i in range(n):\n",
    "        sum_digits += next_digit\n",
    "        next_digit += 2\n",
    "    return sum_digits"
   ]
  },
  {
   "cell_type": "markdown",
   "id": "67305324",
   "metadata": {},
   "source": [
    "## Count the digit (7 kyu)"
   ]
  },
  {
   "cell_type": "code",
   "execution_count": 30,
   "id": "9b699e5f",
   "metadata": {},
   "outputs": [],
   "source": [
    "def nb_dig(n, d):\n",
    "    count = 0\n",
    "    for num in range(0, n+1):\n",
    "        square = num**2\n",
    "        for i in range(len(str(square))): # convert to string so that number's length can be found\n",
    "            if square % 10 == d:\n",
    "                count += 1\n",
    "            square = square // 10\n",
    "    return count"
   ]
  },
  {
   "cell_type": "markdown",
   "id": "15bd3632",
   "metadata": {},
   "source": [
    "## Factorial (7 kyu)"
   ]
  },
  {
   "cell_type": "code",
   "execution_count": 32,
   "id": "a3bcb0dc",
   "metadata": {},
   "outputs": [],
   "source": [
    "def factorial(n):\n",
    "    if n == 0 or n == 1:\n",
    "        return 1\n",
    "    return n * factorial(n-1)"
   ]
  },
  {
   "cell_type": "markdown",
   "id": "a9d8569f",
   "metadata": {},
   "source": [
    "## Breaking chocolate problem (7 kyu)"
   ]
  },
  {
   "cell_type": "code",
   "execution_count": 34,
   "id": "07ff8292",
   "metadata": {},
   "outputs": [],
   "source": [
    "def break_chocolate(n, m):\n",
    "    if m == 0 or n == 0 or (m == 1 and n == 1):\n",
    "        return 0\n",
    "    elif m <= n:\n",
    "        return (m-1) + m*(n-1)\n",
    "    else:\n",
    "        return (n-1) + n*(m-1)"
   ]
  },
  {
   "cell_type": "markdown",
   "id": "738562b2",
   "metadata": {},
   "source": [
    "## Build a square (7 kyu)"
   ]
  },
  {
   "cell_type": "code",
   "execution_count": 35,
   "id": "17bbd9c4",
   "metadata": {},
   "outputs": [],
   "source": [
    "def generate_shape(n):\n",
    "    my_str = []\n",
    "    for i in range(n):\n",
    "        for j in range(n):\n",
    "            my_str.append(\"+\")\n",
    "        if i == n-1:\n",
    "            continue\n",
    "        my_str.append(\"\\n\")\n",
    "    return ''.join(my_str)"
   ]
  },
  {
   "cell_type": "markdown",
   "id": "9f910e33",
   "metadata": {},
   "source": [
    "## Exes and ohs (7 kyu)"
   ]
  },
  {
   "cell_type": "code",
   "execution_count": 36,
   "id": "c97c479a",
   "metadata": {},
   "outputs": [],
   "source": [
    "def xo(s):\n",
    "    num_x = 0\n",
    "    num_o = 0\n",
    "    for char in s.lower():\n",
    "        if char == 'x':\n",
    "            num_x += 1\n",
    "        elif char == 'o':\n",
    "            num_o += 1\n",
    "    return num_x == num_o"
   ]
  },
  {
   "cell_type": "markdown",
   "id": "41620700",
   "metadata": {},
   "source": [
    "## Rectangle into squares (6 kyu)"
   ]
  },
  {
   "cell_type": "code",
   "execution_count": 37,
   "id": "de422ef2",
   "metadata": {},
   "outputs": [],
   "source": [
    "def sq_in_rect(lng, wdth):\n",
    "    if lng == 0 or wdth == 0 or lng==wdth:\n",
    "        return None\n",
    "    squares = []\n",
    "    while lng > 0 and wdth > 0:\n",
    "        if lng > wdth:\n",
    "            squares.append(wdth)\n",
    "            lng = lng - wdth\n",
    "        else:\n",
    "            squares.append(lng)\n",
    "            wdth = wdth - lng\n",
    "    return squares"
   ]
  },
  {
   "cell_type": "markdown",
   "id": "c28392fd",
   "metadata": {},
   "source": [
    "## Playing with digits (6 kyu)"
   ]
  },
  {
   "cell_type": "code",
   "execution_count": 38,
   "id": "62f779c4",
   "metadata": {},
   "outputs": [],
   "source": [
    "def dig_pow(n, p):\n",
    "    reversed_n = int(str(n)[::-1])\n",
    "    duplicate = reversed_n\n",
    "    added_val = 0\n",
    "    while duplicate > 0:\n",
    "        added_val += (duplicate % 10)**p\n",
    "        p += 1\n",
    "        duplicate = duplicate // 10\n",
    "        \n",
    "    if added_val % n == 0:\n",
    "        return int(added_val / n)\n",
    "    return -1"
   ]
  },
  {
   "cell_type": "markdown",
   "id": "d11461c2",
   "metadata": {},
   "source": [
    "## Find the unique number (6 kyu)"
   ]
  },
  {
   "cell_type": "code",
   "execution_count": 39,
   "id": "6378be27",
   "metadata": {},
   "outputs": [],
   "source": [
    "def find_uniq(arr):\n",
    "    first = arr[0]\n",
    "    first_not_unique = False\n",
    "    another = None\n",
    "    for i in range(1, len(arr)):\n",
    "        if arr[i] == first and not first_not_unique:\n",
    "            first_not_unique = True\n",
    "        elif arr[i] == first and first_not_unique and another is not None:\n",
    "            return another\n",
    "        elif arr[i] != first and another is None and not first_not_unique:\n",
    "            another = arr[i]\n",
    "        elif arr[i] != first and another is None and first_not_unique:\n",
    "            return arr[i]\n",
    "        elif arr[i] == another:\n",
    "            return first\n",
    "        else:\n",
    "            continue"
   ]
  },
  {
   "cell_type": "markdown",
   "id": "036d5de2",
   "metadata": {},
   "source": [
    "## Plenty of fish in the pond (6 kyu)"
   ]
  },
  {
   "cell_type": "code",
   "execution_count": 40,
   "id": "5e0fb404",
   "metadata": {},
   "outputs": [],
   "source": [
    "def fish(shoal):\n",
    "    # arrange shoal in sequential order\n",
    "    current_size = 1\n",
    "    eaten_weight = 0\n",
    "    amt_for_nxt_category = 4\n",
    "    fish_list = [fish for fish in shoal]\n",
    "    fish_list.sort()\n",
    "    print(fish_list)\n",
    "    for i in range(len(fish_list)):\n",
    "        if int(fish_list[i]) > current_size:\n",
    "            return current_size\n",
    "        eaten_weight += int(fish_list[i])\n",
    "        if eaten_weight >= amt_for_nxt_category:\n",
    "            eaten_weight -= amt_for_nxt_category\n",
    "            amt_for_nxt_category += 4\n",
    "            current_size += 1\n",
    "\n",
    "    return current_size"
   ]
  },
  {
   "cell_type": "markdown",
   "id": "b39a93e2",
   "metadata": {},
   "source": [
    "## Maze Runner (6 kyu)"
   ]
  },
  {
   "cell_type": "code",
   "execution_count": 42,
   "id": "54ef04da",
   "metadata": {},
   "outputs": [],
   "source": [
    "def find_pos(maze, current_pos, move):\n",
    "    if current_pos == [-1, -1] and move == \"X\": # i.e. looking for beginning point\n",
    "        for i in range(len(maze)):\n",
    "            for j in range(len(maze[i])):\n",
    "                if maze[i][j] == 2:\n",
    "                    return [i, j]\n",
    "        return None\n",
    "\n",
    "    if move == \"N\":\n",
    "        if current_pos[0] == 0:\n",
    "            return \"border cross\"\n",
    "        return [current_pos[0] - 1, current_pos[1]]\n",
    "\n",
    "    elif move == \"S\":\n",
    "        if current_pos[0] == len(maze)-1:\n",
    "            return \"border cross\"\n",
    "        return [current_pos[0] + 1, current_pos[1]]\n",
    "\n",
    "    elif move == \"W\":\n",
    "        if current_pos[1] == 0:\n",
    "            return \"border cross\"\n",
    "        return [current_pos[0], current_pos[1] - 1]\n",
    "\n",
    "    elif move == \"E\":\n",
    "        if current_pos[1] == len(maze[current_pos[0]]) - 1:\n",
    "            return \"border cross\"\n",
    "        return [current_pos[0], current_pos[1] + 1]\n",
    "\n",
    "\n",
    "def maze_runner(maze, directions):\n",
    "    current_pos  = find_pos(maze, [-1, -1], \"X\")# let it be list\n",
    "    for move in directions:\n",
    "        next_pos = find_pos(maze, current_pos, move) #find next pos\n",
    "        if next_pos == \"border cross\":\n",
    "            return \"Dead\"\n",
    "        current_pos = next_pos\n",
    "        next_pos_val = maze[next_pos[0]][next_pos[1]]\n",
    "        if next_pos_val == 1:\n",
    "            return \"Dead\"\n",
    "        elif next_pos_val == 3:\n",
    "            return \"Finish\"\n",
    "    # after all moves are finished\n",
    "    return \"Lost\""
   ]
  },
  {
   "cell_type": "markdown",
   "id": "a2352132",
   "metadata": {},
   "source": [
    "## Mexican wave (6 kyu)"
   ]
  },
  {
   "cell_type": "code",
   "execution_count": 43,
   "id": "f5ced7a7",
   "metadata": {},
   "outputs": [],
   "source": [
    "def wave(people):\n",
    "    if people == \"\":\n",
    "        return []\n",
    "    my_list = []\n",
    "    for i in range(len(people)):\n",
    "        if people[i] == \" \":\n",
    "            continue\n",
    "        if i == len(people) - 1:\n",
    "            my_word = people[:i] + people[i].upper()\n",
    "        else:\n",
    "            my_word = people[:i] + people[i].upper() + people[i+1:]\n",
    "        my_list.append(my_word)\n",
    "    return my_list"
   ]
  },
  {
   "cell_type": "markdown",
   "id": "3274c6f5",
   "metadata": {},
   "source": [
    "## Build a pile of cubes (6 kyu)"
   ]
  },
  {
   "cell_type": "code",
   "execution_count": 44,
   "id": "bcbd9fd2",
   "metadata": {},
   "outputs": [],
   "source": [
    "def sum_cubes(n):\n",
    "    return int(n**2 * (n+1)**2) # formula is n^2*(n+1)^2/4 but division will cause loss of precision\n",
    "\n",
    "def find_nb(m):\n",
    "    n = 1\n",
    "    while sum_cubes(n) <= 4*m:\n",
    "        if sum_cubes(n) == 4*m:\n",
    "            return n\n",
    "        n += 1\n",
    "    return -1"
   ]
  },
  {
   "cell_type": "markdown",
   "id": "5788146a",
   "metadata": {},
   "source": [
    "## Tortoise Racing (6 kyu)"
   ]
  },
  {
   "cell_type": "code",
   "execution_count": 2,
   "id": "57900a97",
   "metadata": {},
   "outputs": [],
   "source": [
    "def race(v1, v2, g):\n",
    "    if v2 <= v1:\n",
    "        return None\n",
    "    time = int(g / (v2 - v1) * 3600)# time in seconds\n",
    "    hr = time // 3600\n",
    "    min = (time - hr * 3600) // 60\n",
    "    sec = (time - hr * 3600 - min * 60)\n",
    "    if sec // 60 > 0:\n",
    "        sec = sec % 60\n",
    "        min += 1\n",
    "    if min // 60 > 0:\n",
    "        min = min % 60\n",
    "        min += 1\n",
    "    return [hr, min, sec]"
   ]
  },
  {
   "cell_type": "markdown",
   "id": "cc89416a",
   "metadata": {},
   "source": [
    "## Collatz (6 kyu)"
   ]
  },
  {
   "cell_type": "code",
   "execution_count": 3,
   "id": "fdb89403",
   "metadata": {},
   "outputs": [],
   "source": [
    "def collatz(n):\n",
    "    seq = []\n",
    "    seq.append(n)\n",
    "    while n > 1:\n",
    "        if n % 2 == 0:\n",
    "            n = int(n/2)\n",
    "            seq.append(n)\n",
    "        else:\n",
    "            n = 3*n + 1\n",
    "            seq.append(n)\n",
    "    return '->'.join(list(map(str, seq)))"
   ]
  },
  {
   "cell_type": "markdown",
   "id": "0e52bdc0",
   "metadata": {},
   "source": [
    "## Take a 10 minutes walk (6 kyu)"
   ]
  },
  {
   "cell_type": "code",
   "execution_count": 4,
   "id": "863a087b",
   "metadata": {},
   "outputs": [],
   "source": [
    "# each north should be neutralized by south, vice versa\n",
    "# and each east should be neutralized by west, vice versa\n",
    "def is_valid_walk(walk):\n",
    "    #determine if walk is valid\n",
    "    if len(walk) != 10:\n",
    "        return False\n",
    "    my_dict = dict(n=0, s=0, e=0, w=0)\n",
    "    # at the end north_count should south count and east_count should equal west_count to be back at strting point again\n",
    "    for move in walk:\n",
    "        my_dict[move] += 1\n",
    "    \n",
    "    return my_dict['n'] == my_dict['s'] and my_dict['e'] == my_dict['w']"
   ]
  },
  {
   "cell_type": "markdown",
   "id": "0c652f5a",
   "metadata": {},
   "source": [
    "## Which are in? (6 kyu)"
   ]
  },
  {
   "cell_type": "code",
   "execution_count": 5,
   "id": "35002654",
   "metadata": {},
   "outputs": [],
   "source": [
    "def in_array(array1, array2):\n",
    "    result = []\n",
    "    for item1 in array1:\n",
    "        if item1 in result:\n",
    "            continue # removing duplicates\n",
    "        for item2 in array2:\n",
    "            if item1 in item2:\n",
    "                result.append(item1)\n",
    "                break\n",
    "    result.sort()\n",
    "    return result"
   ]
  },
  {
   "cell_type": "markdown",
   "id": "78aec0e0",
   "metadata": {},
   "source": [
    "## String tops (6 kyu)"
   ]
  },
  {
   "cell_type": "code",
   "execution_count": 6,
   "id": "311ca162",
   "metadata": {},
   "outputs": [],
   "source": [
    "def tops(msg):\n",
    "    my_seq = []\n",
    "    if msg == \"\":\n",
    "        return \"\"\n",
    "    displacement = 1\n",
    "    next_index = 1\n",
    "    while next_index < len(msg):\n",
    "        my_seq.append(msg[next_index])\n",
    "        displacement += 4 \n",
    "        next_index += displacement\n",
    "    # return joined string after reversing my_seq\n",
    "    return ''.join(my_seq[::-1])\n",
    "\n",
    "# 1, 5, 9, 13, ... (displacements)"
   ]
  },
  {
   "cell_type": "markdown",
   "id": "d0738f30",
   "metadata": {},
   "source": [
    "## Detect panagram (6 kyu)"
   ]
  },
  {
   "cell_type": "code",
   "execution_count": null,
   "id": "c5836458",
   "metadata": {},
   "outputs": [],
   "source": [
    "def is_pangram(s):\n",
    "    alphabets = ['a', 'b', 'c', 'd', 'e', 'f', 'g', 'h', 'i', 'j',\n",
    "                 'k', 'l', 'm', 'n', 'o', 'p', 'q', 'r', 's', 't',\n",
    "                 'u', 'v', 'w', 'x', 'y', 'z']\n",
    "    for letter in s.lower():\n",
    "        if letter in alphabets:\n",
    "            alphabets.pop(alphabets.index(letter))\n",
    "        if len(alphabets) == 0:\n",
    "            return True\n",
    "    return False"
   ]
  },
  {
   "cell_type": "markdown",
   "id": "fa810897",
   "metadata": {},
   "source": [
    "## Sum of Digits / Digital Root (6 kyu)"
   ]
  },
  {
   "cell_type": "code",
   "execution_count": 13,
   "id": "d4a50567",
   "metadata": {},
   "outputs": [],
   "source": [
    "# the question is asking to recursively add up all the digits in the number until we single digit answer\n",
    "# if quotient is greater than 0 then add the remainder to an array\n",
    "# finally add up all the elements of array\n",
    "# if resulting sum divided by 10 gives quotient 0 then it is single digit number return that number\n",
    "\n",
    "def digital_root(n):\n",
    "    num = n\n",
    "    while(True):\n",
    "        sum = 0\n",
    "        while num // 10 > 0:\n",
    "            sum += (num % 10)\n",
    "            num = num // 10\n",
    "        sum += num #Most significant digit is left because num // 10 for MSB is 0 so adding that up\n",
    "        if sum < 10:\n",
    "            return sum\n",
    "        else:\n",
    "            num = sum"
   ]
  },
  {
   "cell_type": "markdown",
   "id": "fc5f75de",
   "metadata": {},
   "source": [
    "## Weight for weight (5 kyu)"
   ]
  },
  {
   "cell_type": "code",
   "execution_count": 7,
   "id": "5c1db3d6",
   "metadata": {},
   "outputs": [],
   "source": [
    "from functools import reduce\n",
    "\n",
    "def order_weight(strng):\n",
    "    # split the string\n",
    "    num_list = strng.split()\n",
    "\n",
    "    # calculate weights and insert in a list\n",
    "    sum_list = []\n",
    "    for num in num_list:\n",
    "        list_digits = [int(i) for i in num]\n",
    "        sum_list.append(reduce(lambda a, b: a+b, list_digits))\n",
    "\n",
    "    # bubble sort algorithm to sort num_list based on sum_list\n",
    "    for i in range(len(sum_list)):\n",
    "        for j in range(len(sum_list) - i - 1):\n",
    "            if sum_list[j] > sum_list[j+1]:\n",
    "                sum_list[j], sum_list[j+1] = sum_list[j+1], sum_list[j]\n",
    "                num_list[j], num_list[j+1] = num_list[j+1], num_list[j]\n",
    "            elif sum_list[j] == sum_list[j+1] and num_list[j] > num_list[j+1]:\n",
    "                num_list[j], num_list[j+1] = num_list[j+1], num_list[j]\n",
    "\n",
    "    return ' '.join(num_list)"
   ]
  },
  {
   "cell_type": "markdown",
   "id": "eb4ea4a5",
   "metadata": {},
   "source": [
    "## Numbers and its Reversal Having Same Prime Factors (5 kyu)"
   ]
  },
  {
   "cell_type": "code",
   "execution_count": 9,
   "id": "e8f13bf7",
   "metadata": {},
   "outputs": [],
   "source": [
    "import math\n",
    "\n",
    "def palindromic(num):\n",
    "    return str(num) == str(num)[::-1]\n",
    "\n",
    "\n",
    "def prime_factors(num):\n",
    "    \"\"\"\n",
    "    Calculates prime factors of a number and returns set\n",
    "    \"\"\"\n",
    "    pf = set()\n",
    "\n",
    "    while num % 2 == 0:\n",
    "        pf.add(2)\n",
    "        num /= 2\n",
    "    \n",
    "    # num must be odd now, so we skip 2 in the for loop below\n",
    "    for i in range(3, int(math.sqrt(num))+1, 2):\n",
    "        while num % i == 0:\n",
    "            pf.add(i)\n",
    "            num /= i\n",
    "    \n",
    "    # if num is prime itself then in the end it will be > 2\n",
    "    if num > 2:\n",
    "        pf.add(num)\n",
    "    \n",
    "    return pf\n",
    "\n",
    "\n",
    "def same_factRev(nMax):  # nMax upper bound of the range to study\n",
    "    list = []\n",
    "    for num in range(1, nMax + 1):\n",
    "        if palindromic(num):\n",
    "            continue\n",
    "        num_prime_factors = prime_factors(num)\n",
    "        reverse_prime_factors = prime_factors(int(str(num)[::-1]))\n",
    "        if num_prime_factors == reverse_prime_factors:\n",
    "            list.append(num)\n",
    "    return list"
   ]
  },
  {
   "cell_type": "markdown",
   "id": "e71350c8",
   "metadata": {},
   "source": [
    "## Number of trailing zeros of n! (5 kyu)"
   ]
  },
  {
   "cell_type": "code",
   "execution_count": 10,
   "id": "97b13276",
   "metadata": {},
   "outputs": [],
   "source": [
    "def zeros(n):\n",
    "    count = 0\n",
    "    while(n >= 5):\n",
    "        n //= 5\n",
    "        count += n\n",
    "    return count"
   ]
  },
  {
   "cell_type": "markdown",
   "id": "441cf189",
   "metadata": {},
   "source": [
    "## Best travel (5 kyu)"
   ]
  },
  {
   "cell_type": "code",
   "execution_count": 11,
   "id": "ccecad6a",
   "metadata": {},
   "outputs": [],
   "source": [
    "import itertools\n",
    "\n",
    "def choose_best_sum(t, k, ls):\n",
    "    max_subset = ()\n",
    "    subsets = list(itertools.combinations(ls, k))\n",
    "    for i in range(len(subsets)):\n",
    "        if t >= sum(subsets[i]) > sum(max_subset):\n",
    "            max_subset = subsets[i]\n",
    "    if max_subset == ():\n",
    "        return None\n",
    "    return sum(max_subset)"
   ]
  },
  {
   "cell_type": "markdown",
   "id": "7190c970",
   "metadata": {},
   "source": [
    "## Matrices adding diagonal products (5 kyu)"
   ]
  },
  {
   "cell_type": "code",
   "execution_count": 12,
   "id": "d6da4cea",
   "metadata": {},
   "outputs": [],
   "source": [
    "def sum_prod_diags(matrix):\n",
    "    # your code here\n",
    "    sum1 = 0\n",
    "    sum2 = 0\n",
    "    for i in range(len(matrix) - 1, -1, -1):\n",
    "        k1 = len(matrix) - 1 - i\n",
    "        k2 = i\n",
    "        prod1 = 1\n",
    "        prod2 = 1\n",
    "        for j in range(0, i + 1):\n",
    "            prod1 *= matrix[j][k1]\n",
    "            prod2 *= matrix[j][k2]\n",
    "            k1 += 1\n",
    "            k2 -= 1\n",
    "        sum1 += prod1\n",
    "        sum2 += prod2\n",
    "\n",
    "        if i == len(matrix) - 1:\n",
    "            continue\n",
    "\n",
    "        prod3 = 1\n",
    "        prod4 = 1\n",
    "        k3 = i\n",
    "        k4 = len(matrix) - 1 - i\n",
    "        for j in range(len(matrix) - 1, len(matrix) - 2 -i, -1):\n",
    "            prod3 *= matrix[j][k3]\n",
    "            prod4 *= matrix[j][k4]\n",
    "            k3 -= 1\n",
    "            k4 += 1\n",
    "        sum1 += prod3\n",
    "        sum2 += prod4\n",
    "\n",
    "    return sum1 - sum2"
   ]
  },
  {
   "cell_type": "markdown",
   "id": "03c277a9",
   "metadata": {},
   "source": [
    "## Land Perimeter (5 kyu)"
   ]
  },
  {
   "cell_type": "code",
   "execution_count": 2,
   "id": "d66b7576",
   "metadata": {},
   "outputs": [],
   "source": [
    "def land_perimeter(arr):\n",
    "    # create 2D grid\n",
    "    max_perimeter = ''.join(arr).count(\"X\") * 4  # if no island has shared edge\n",
    "    neighbor_count = 0\n",
    "\n",
    "    for i in range(len(arr)):\n",
    "        for j in range(len(arr[i])):\n",
    "            if len(arr) == 1 and len(arr[0]) == 1:\n",
    "                break\n",
    "            if arr[i][j] != \"X\":  # to have neighbor element needs to be X itself\n",
    "                continue\n",
    "            if i == 0:  # top row\n",
    "                if j == 0 and arr[i][j + 1] == \"X\":\n",
    "                    neighbor_count += 1\n",
    "                if j == 0 and arr[i + 1][j] == \"X\":\n",
    "                    neighbor_count += 1\n",
    "                if j == len(arr[i]) - 1 and arr[i][j - 1] == \"X\":\n",
    "                    neighbor_count += 1\n",
    "                if j == len(arr[i]) - 1 and arr[i + 1][j] == \"X\":\n",
    "                    neighbor_count += 1\n",
    "                if 0 < j < len(arr[i]) - 1 and arr[i][j + 1] == \"X\":\n",
    "                    neighbor_count += 1\n",
    "                if 0 < j < len(arr[i]) - 1 and arr[i][j - 1] == \"X\":\n",
    "                    neighbor_count += 1\n",
    "                if 0 < j < len(arr[i]) - 1 and arr[i + 1][j] == \"X\":\n",
    "                    neighbor_count += 1\n",
    "\n",
    "            if i == len(arr) - 1:  # bottom row\n",
    "                if j == 0 and arr[i][j + 1] == \"X\":\n",
    "                    neighbor_count += 1\n",
    "                if j == 0 and arr[i - 1][j] == \"X\":\n",
    "                    neighbor_count += 1\n",
    "                if j == len(arr[i]) - 1 and arr[i - 1][j] == \"X\":\n",
    "                    neighbor_count += 1\n",
    "                if j == len(arr[i]) - 1 and arr[i][j - 1] == \"X\":\n",
    "                    neighbor_count += 1\n",
    "                if 0 < j < len(arr[i]) - 1 and arr[i][j - 1] == \"X\":\n",
    "                    neighbor_count += 1\n",
    "                if 0 < j < len(arr[1]) - 1 and arr[i][j + 1] == \"X\":\n",
    "                    neighbor_count += 1\n",
    "                if 0 < j < len(arr[1]) - 1 and arr[i - 1][j] == \"X\":\n",
    "                    neighbor_count += 1\n",
    "                \n",
    "\n",
    "            if 0 < i < len(arr) - 1:  # middle row\n",
    "                if j == 0 and arr[i][j + 1] == \"X\":\n",
    "                    neighbor_count += 1\n",
    "                if j == 0 and arr[i - 1][j] == \"X\":\n",
    "                    neighbor_count += 1\n",
    "                if j == 0 and arr[i + 1][j] == \"X\":\n",
    "                    neighbor_count += 1\n",
    "                if j == len(arr[i]) - 1 and arr[i + 1][j] == \"X\":\n",
    "                    neighbor_count += 1\n",
    "                if j == len(arr[i]) - 1 and arr[i - 1][j] == \"X\":\n",
    "                    neighbor_count += 1\n",
    "                if j == len(arr[i]) - 1 and arr[i][j - 1] == \"X\":\n",
    "                    neighbor_count += 1\n",
    "                if 0 < j < len(arr[i]) - 1 and arr[i][j + 1] == \"X\":\n",
    "                    neighbor_count += 1\n",
    "                if 0 < j < len(arr[i]) - 1 and arr[i][j - 1] == \"X\":\n",
    "                    neighbor_count += 1\n",
    "                if 0 < j < len(arr[i]) - 1 and arr[i - 1][j] == \"X\":\n",
    "                    neighbor_count += 1\n",
    "                if 0 < j < len(arr[i]) - 1 and arr[i + 1][j] == \"X\":\n",
    "                    neighbor_count += 1\n",
    "    return \"Total land perimeter: {}\".format(max_perimeter - neighbor_count)"
   ]
  },
  {
   "cell_type": "markdown",
   "id": "2218fa54",
   "metadata": {},
   "source": [
    "## Probabilities of sums in rolling dice (5 kyu)"
   ]
  },
  {
   "cell_type": "code",
   "execution_count": 3,
   "id": "454497a6",
   "metadata": {},
   "outputs": [],
   "source": [
    "import itertools\n",
    "\n",
    "def rolldice_sum_prob(sum_, dice_amount):\n",
    "    dice_values = [1, 2, 3, 4, 5, 6]\n",
    "    dices = [dice_values for i in range(dice_amount)]\n",
    "    possible_sequences = list(itertools.product(*dices))\n",
    "    desired_occurences = 0\n",
    "    for possibility in possible_sequences:\n",
    "        if sum(possibility) == sum_:\n",
    "            desired_occurences += 1\n",
    "    prob = desired_occurences / (6**dice_amount)\n",
    "    return prob"
   ]
  },
  {
   "cell_type": "markdown",
   "id": "3d0786a4",
   "metadata": {},
   "source": [
    "## Directions reduction (5 kyu)"
   ]
  },
  {
   "cell_type": "code",
   "execution_count": 4,
   "id": "1182cf07",
   "metadata": {},
   "outputs": [],
   "source": [
    "def previous_is_opposite(prev_el, curr_el):\n",
    "    return (prev_el == \"NORTH\" and curr_el == \"SOUTH\") or \\\n",
    "            (prev_el == \"SOUTH\" and curr_el == \"NORTH\") or \\\n",
    "            (prev_el == \"EAST\" and curr_el == \"WEST\") or \\\n",
    "           (prev_el == \"WEST\" and curr_el == \"EAST\")\n",
    "\n",
    "def dirReduc(arr):\n",
    "    new_arr = arr\n",
    "    if new_arr == []:\n",
    "        return []\n",
    "    i = 1\n",
    "    new_arr.append(\"LAST ELEMENT\")\n",
    "    while new_arr[i] != \"LAST ELEMENT\":\n",
    "        if previous_is_opposite(new_arr[i-1], new_arr[i]):\n",
    "            new_arr.pop(i)\n",
    "            new_arr.pop(i-1)\n",
    "            i = i - 1\n",
    "        else:\n",
    "            i = i + 1\n",
    "    new_arr.pop()\n",
    "    return new_arr"
   ]
  },
  {
   "cell_type": "code",
   "execution_count": null,
   "id": "f5dc49d6",
   "metadata": {},
   "outputs": [],
   "source": []
  }
 ],
 "metadata": {
  "kernelspec": {
   "display_name": "Python 3 (ipykernel)",
   "language": "python",
   "name": "python3"
  },
  "language_info": {
   "codemirror_mode": {
    "name": "ipython",
    "version": 3
   },
   "file_extension": ".py",
   "mimetype": "text/x-python",
   "name": "python",
   "nbconvert_exporter": "python",
   "pygments_lexer": "ipython3",
   "version": "3.10.7"
  }
 },
 "nbformat": 4,
 "nbformat_minor": 5
}
