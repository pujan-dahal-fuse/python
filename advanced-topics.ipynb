{
 "cells": [
  {
   "cell_type": "markdown",
   "id": "2fced5f5",
   "metadata": {},
   "source": [
    "## Files"
   ]
  },
  {
   "cell_type": "code",
   "execution_count": 29,
   "id": "c1ff4deb",
   "metadata": {},
   "outputs": [
    {
     "name": "stdout",
     "output_type": "stream",
     "text": [
      "This is my first file\n",
      "This file contains text\n",
      "This is the third line in the file\n",
      "\n",
      "This is my first hippo\n",
      "This hippo contains text\n",
      "This is the third line in the hippo\n"
     ]
    },
    {
     "data": {
      "text/plain": [
       "'\\nThis is my first hippo\\nThis hippo contains text\\nThis is the third line in the hippo\\n'"
      ]
     },
     "execution_count": 29,
     "metadata": {},
     "output_type": "execute_result"
    }
   ],
   "source": [
    "#basic opening and closing files\n",
    "\n",
    "f = open(\"test.txt\") # opening in read mode\n",
    "f = open(\"test.txt\", mode = 'w', encoding = 'utf-8') # opening in write mode\n",
    "f.close() # close file\n",
    "\n",
    "# opening file to write into it\n",
    "# best way is to use with\n",
    "# other ways include using try and finally block for closing file despite of error\n",
    "with open(\"test.txt\", mode = 'w', encoding = 'utf-8') as f:\n",
    "    f.write(\"This is my first file\\n\")\n",
    "    f.write(\"This file contains text\\n\")\n",
    "    f.write(\"This is the third line in the file\\n\")\n",
    "\n",
    "\n",
    "# reading from a file\n",
    "\n",
    "f = open(\"test.txt\", mode = 'r', encoding = 'utf-8') # opening in read mode\n",
    "f.read(4) # 'This'\n",
    "f.read(4) # ' is '\n",
    "f.read() # 'my first file\\nThis file contains text\\nThis is the third line in the file\\n'\n",
    "f.read() # '' i.e. empty string\n",
    "\n",
    "f.seek(0) # bring cursor to position 0\n",
    "f.read(10) # 'This is my'\n",
    "\n",
    "f.seek(0)\n",
    "for line in f:\n",
    "    print(line, end = '')  \n",
    "\"\"\"\n",
    "This is my first file\n",
    "This file contains text\n",
    "This is the third line in the file\n",
    "\"\"\"\n",
    "\n",
    "\n",
    "# code to open text.txt, read it, and replace word 'file' by word 'hippo'\n",
    "new_content = []\n",
    "with open(\"test.txt\", mode = 'r', encoding = 'utf-8') as file:\n",
    "    file.seek(0)\n",
    "    for line in file:\n",
    "        words = line.split(' ')\n",
    "        for i in range(len(words)):\n",
    "            word = words[i]\n",
    "            if word == 'file':\n",
    "                words[i] = 'hippo'\n",
    "            elif word == 'file\\n':\n",
    "                words[i] = 'hippo\\n'\n",
    "        new_content.append(' '.join(words))\n",
    "with open(\"test.txt\", mode = 'w', encoding = 'utf-8') as file:\n",
    "    for line in new_content:\n",
    "        file.write(line)\n",
    "print()\n",
    "file = open(\"test.txt\", 'r')\n",
    "for line in file:\n",
    "    print(line, end='')\n",
    "\"\"\"\n",
    "This is my first hippo\n",
    "This hippo contains text\n",
    "This is the third line in the hippo\n",
    "\"\"\"\n",
    "\n",
    "\n",
    "    "
   ]
  },
  {
   "cell_type": "markdown",
   "id": "5c15be61",
   "metadata": {},
   "source": [
    "## Iterators"
   ]
  },
  {
   "cell_type": "code",
   "execution_count": 59,
   "id": "ac50855d",
   "metadata": {},
   "outputs": [
    {
     "name": "stdout",
     "output_type": "stream",
     "text": [
      "apple\n",
      "banana\n",
      "mango\n",
      "papaya\n",
      "Iteration over\n",
      "1\n",
      "3\n",
      "9\n",
      "27\n",
      "81\n",
      "Iteration Stops\n",
      "1 3 9 27 81 0\n",
      "2\n",
      "4\n",
      "6\n",
      "8\n"
     ]
    }
   ],
   "source": [
    "# iterator is an object that can be iterated upon\n",
    "my_list = [\"apple\", \"banana\", \"mango\", \"papaya\"]\n",
    "\n",
    "my_iter = iter(my_list) # an iterator over our iterator object\n",
    "\n",
    "#iterate through list using next() function\n",
    "print(next(my_iter)) # apple\n",
    "print(next(my_iter)) # banana\n",
    "print(next(my_iter)) # mango\n",
    "print(my_iter.__next__()) # papaya\n",
    "\n",
    "try:\n",
    "    print(my_iter.__next__())\n",
    "except StopIteration: # As there is no another element in the list, it throws StopIteration exception\n",
    "    print(\"Iteration over\") # Iteration over\n",
    "    \n",
    "\n",
    "# custom iterator object\n",
    "class PowThree:\n",
    "    \"\"\"\n",
    "    Class to implement an interator of powers of three\n",
    "    \"\"\"\n",
    "    \n",
    "    def __init__(self, max = 0):\n",
    "        self.max = max\n",
    "        self.next = 0\n",
    "    \n",
    "    def __iter__(self):\n",
    "        self.next = 0\n",
    "        return self\n",
    "    \n",
    "    def __next__(self):\n",
    "        if self.next <= self.max:\n",
    "            result = 3 ** self.next\n",
    "            self.next += 1\n",
    "            return result\n",
    "        else:\n",
    "            raise StopIteration\n",
    "\n",
    "numbers = PowThree(4)\n",
    "\n",
    "my_iter = iter(numbers)\n",
    "\n",
    "print(next(my_iter)) # 1\n",
    "print(next(my_iter)) # 3\n",
    "print(next(my_iter)) # 9\n",
    "print(next(my_iter)) # 27\n",
    "print(next(my_iter)) # 81\n",
    "try:\n",
    "    print(next(my_iter))\n",
    "except StopIteration:\n",
    "    print(\"Iteration Stops\") # Iteration Stops\n",
    "\n",
    "\n",
    "# using for loop to iterate over our custom object\n",
    "for i in PowThree(4):\n",
    "    print(i, end=' ')\n",
    "# 1 3 9 27 81 \n",
    "\n",
    "\n",
    "# infinite iterators\n",
    "class InfiniteIterator:\n",
    "    \"\"\"Infinite iterator to return all positive even integers\"\"\"\n",
    "    def __init__(self):\n",
    "        pass\n",
    "    \n",
    "    def __iter__(self):\n",
    "        self.num = 0 # first integer that is even\n",
    "        return self\n",
    "    \n",
    "    def __next__(self):\n",
    "        result = self.num\n",
    "        self.num += 2\n",
    "        return result\n",
    "    \n",
    "inf_even_iter = iter(InfiniteIterator())\n",
    "\n",
    "print(next(inf_even_iter)) # 0\n",
    "print(next(inf_even_iter)) # 2\n",
    "print(next(inf_even_iter)) # 4\n",
    "print(next(inf_even_iter)) # 6\n",
    "print(next(inf_even_iter)) # 8\n",
    "\n",
    "    "
   ]
  },
  {
   "cell_type": "code",
   "execution_count": 61,
   "id": "763d9224",
   "metadata": {},
   "outputs": [
    {
     "ename": "NameError",
     "evalue": "name 'Reduce' is not defined",
     "output_type": "error",
     "traceback": [
      "\u001b[0;31m---------------------------------------------------------------------------\u001b[0m",
      "\u001b[0;31mNameError\u001b[0m                                 Traceback (most recent call last)",
      "Cell \u001b[0;32mIn [61], line 2\u001b[0m\n\u001b[1;32m      1\u001b[0m my_list \u001b[38;5;241m=\u001b[39m [\u001b[38;5;241m1\u001b[39m, \u001b[38;5;241m2\u001b[39m, \u001b[38;5;241m3\u001b[39m, \u001b[38;5;241m4\u001b[39m, \u001b[38;5;241m5\u001b[39m]\n\u001b[0;32m----> 2\u001b[0m \u001b[38;5;28mprint\u001b[39m(\u001b[43mReduce\u001b[49m(\u001b[38;5;28;01mlambda\u001b[39;00m a, b: a\u001b[38;5;241m+\u001b[39mb, my_list))\n",
      "\u001b[0;31mNameError\u001b[0m: name 'Reduce' is not defined"
     ]
    }
   ],
   "source": [
    "my_list = [1, 2, 3, 4, 5]\n",
    "print(reduce(lambda a, b: a+b, my_list))"
   ]
  }
 ],
 "metadata": {
  "kernelspec": {
   "display_name": "Python 3 (ipykernel)",
   "language": "python",
   "name": "python3"
  },
  "language_info": {
   "codemirror_mode": {
    "name": "ipython",
    "version": 3
   },
   "file_extension": ".py",
   "mimetype": "text/x-python",
   "name": "python",
   "nbconvert_exporter": "python",
   "pygments_lexer": "ipython3",
   "version": "3.10.6"
  }
 },
 "nbformat": 4,
 "nbformat_minor": 5
}
