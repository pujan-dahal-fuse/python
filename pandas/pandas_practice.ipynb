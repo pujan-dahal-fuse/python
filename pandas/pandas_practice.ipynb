{
 "cells": [
  {
   "cell_type": "markdown",
   "id": "66b0ce43",
   "metadata": {},
   "source": [
    "## Pandas Series"
   ]
  },
  {
   "cell_type": "code",
   "execution_count": 2,
   "id": "13c01cf1",
   "metadata": {},
   "outputs": [
    {
     "data": {
      "text/plain": [
       "0    1\n",
       "1    2\n",
       "2    3\n",
       "3    4\n",
       "dtype: int64"
      ]
     },
     "execution_count": 2,
     "metadata": {},
     "output_type": "execute_result"
    }
   ],
   "source": [
    "# pandas series\n",
    "# A pandas Series is a one-dimensional labelled data structure \n",
    "# which can hold data such as strings, integers and even other Python objects\n",
    "# Python Pandas Series are homogeneous one-dimensional objects, that is, \n",
    "# all data are of the same type and are implicitly labelled with an index.\n",
    "\n",
    "import pandas as pd\n",
    "\n",
    "my_list = [1, 2, 3, 4]\n",
    "\n",
    "# pandas series from a list\n",
    "ser = pd.Series(my_list)\n",
    "ser"
   ]
  },
  {
   "cell_type": "code",
   "execution_count": 9,
   "id": "546647cd",
   "metadata": {},
   "outputs": [
    {
     "name": "stdout",
     "output_type": "stream",
     "text": [
      "0    p\n",
      "1    u\n",
      "2    j\n",
      "3    a\n",
      "4    n\n",
      "dtype: object \n",
      "\n",
      "day1    330\n",
      "day2    430\n",
      "day3    530\n",
      "dtype: int64\n"
     ]
    },
    {
     "data": {
      "text/plain": [
       "0    1\n",
       "1    2\n",
       "2    a\n",
       "3    b\n",
       "dtype: object"
      ]
     },
     "execution_count": 9,
     "metadata": {},
     "output_type": "execute_result"
    }
   ],
   "source": [
    "import numpy as np\n",
    "\n",
    "# pandas series from numpy array\n",
    "my_arr = np.array(['p', 'u', 'j', 'a', 'n'])\n",
    "ser = pd.Series(my_arr)\n",
    "print(ser, '\\n')\n",
    "\n",
    "# creating pandas series from dictonary\n",
    "my_dict = {'day1': 330, 'day2': 430, 'day3': 530}\n",
    "ser = pd.Series(my_dict)\n",
    "print(ser)\n",
    "\n",
    "# day1    330\n",
    "# day2    430\n",
    "# day3    530\n",
    "# here day1, day2 and day3 are indexes or labels to identify the data 330, 430 and 530 respectively\n",
    "\n",
    "\n",
    "# even heterogenous arrays are formed here, but series are generally homogenous\n",
    "my_arr = np.array([1, 2, 'a', 'b'])\n",
    "ser = pd.Series(my_arr)\n",
    "ser"
   ]
  },
  {
   "cell_type": "code",
   "execution_count": 36,
   "id": "ea26cc35",
   "metadata": {},
   "outputs": [
    {
     "data": {
      "text/plain": [
       "12    u\n",
       "13    j\n",
       "14    a\n",
       "15    n\n",
       "dtype: object"
      ]
     },
     "execution_count": 36,
     "metadata": {},
     "output_type": "execute_result"
    }
   ],
   "source": [
    "# There are two ways through which we can access element of series, they are :\n",
    "# Accessing Element from Series with Position\n",
    "# Accessing Element Using Label (index)\n",
    "\n",
    "# Accessing Element from Series with position\n",
    "data = ['p', 'u', 'j', 'a', 'n', 'd', 'a', 'h', 'a', 'l']\n",
    "ser = pd.Series(data)\n",
    "ser[:5]\n",
    "# 0    p\n",
    "# 1    u\n",
    "# 2    j\n",
    "# 3    a\n",
    "# 4    n\n",
    "# its like accessing element of a list\n",
    "\n",
    "ser[3:6]\n",
    "# 3    a\n",
    "# 4    n\n",
    "# 5    d\n",
    "\n",
    "\n",
    "# Accessing Element Using Label (index)\n",
    "# In order to access an element from series, we have to set values\n",
    "# by index label. A Series is like a fixed-size dictionary in that\n",
    "# you can get and set values by index label.\n",
    "\n",
    "data = ['p', 'u', 'j', 'a', 'n', 'd', 'a', 'h', 'a', 'l']\n",
    "ser = pd.Series(data, index=[11, 12, 13, 14, 15, 16, 17, 18, 19, 20])\n",
    "ser[16] # 'd'\n",
    "\n",
    "ser.head()\n",
    "# 11    p\n",
    "# 12    u\n",
    "# 13    j\n",
    "# 14    a\n",
    "# 15    n\n",
    "\n",
    "ser[12:15] # Series([], dtype: object) (it doesn't return actual data values)\n",
    "# the index that we provided is called explicit index\n",
    "\n",
    "# to index series explicit index we use .loc[]\n",
    "# the last index is also included in result\n",
    "ser.loc[12:15]\n",
    "# 12    u\n",
    "# 13    j\n",
    "# 14    a\n",
    "# 15    n"
   ]
  },
  {
   "cell_type": "code",
   "execution_count": 38,
   "id": "1c85fcec",
   "metadata": {},
   "outputs": [
    {
     "data": {
      "text/plain": [
       "0    Avery Bradley\n",
       "1      Jae Crowder\n",
       "2     John Holland\n",
       "3      R.J. Hunter\n",
       "4    Jonas Jerebko\n",
       "5     Amir Johnson\n",
       "6    Jordan Mickey\n",
       "7     Kelly Olynyk\n",
       "8     Terry Rozier\n",
       "9     Marcus Smart\n",
       "Name: Name, dtype: object"
      ]
     },
     "execution_count": 38,
     "metadata": {},
     "output_type": "execute_result"
    }
   ],
   "source": [
    "# loading data from a csv file to a dataframe\n",
    "df = pd.read_csv(\"nba.csv\")\n",
    "df.head() # to get first 5 rows of the csv file\n",
    "\n",
    "ser = pd.Series(df['Name'])\n",
    "data = ser.head(10)\n",
    "data"
   ]
  },
  {
   "cell_type": "code",
   "execution_count": 39,
   "id": "4ffe702e",
   "metadata": {},
   "outputs": [
    {
     "data": {
      "text/plain": [
       "3      R.J. Hunter\n",
       "4    Jonas Jerebko\n",
       "5     Amir Johnson\n",
       "Name: Name, dtype: object"
      ]
     },
     "execution_count": 39,
     "metadata": {},
     "output_type": "execute_result"
    }
   ],
   "source": [
    "\n",
    "# using indexing operator\n",
    "data[3:6]\n",
    "# 3      R.J. Hunter\n",
    "# 4    Jonas Jerebko\n",
    "# 5     Amir Johnson"
   ]
  },
  {
   "cell_type": "code",
   "execution_count": 40,
   "id": "2e51b757",
   "metadata": {},
   "outputs": [
    {
     "data": {
      "text/plain": [
       "3      R.J. Hunter\n",
       "4    Jonas Jerebko\n",
       "5     Amir Johnson\n",
       "6    Jordan Mickey\n",
       "Name: Name, dtype: object"
      ]
     },
     "execution_count": 40,
     "metadata": {},
     "output_type": "execute_result"
    }
   ],
   "source": [
    "# indexing a series using .loc[]\n",
    "data.loc[3:6]\n",
    "\n",
    "# 3      R.J. Hunter\n",
    "# 4    Jonas Jerebko\n",
    "# 5     Amir Johnson\n",
    "# 6    Jordan Mickey"
   ]
  },
  {
   "cell_type": "code",
   "execution_count": 3,
   "id": "9831c227",
   "metadata": {},
   "outputs": [
    {
     "data": {
      "text/plain": [
       "3      R.J. Hunter\n",
       "4    Jonas Jerebko\n",
       "5     Amir Johnson\n",
       "Name: Name, dtype: object"
      ]
     },
     "execution_count": 3,
     "metadata": {},
     "output_type": "execute_result"
    }
   ],
   "source": [
    "# .iloc[] function allows us to retrieve data by position\n",
    "\n",
    "import pandas as pd\n",
    "\n",
    "df = pd.read_csv(\"nba.csv\")\n",
    "ser = pd.Series(df['Name'])\n",
    "data = ser.head(10)\n",
    "data.iloc[3:6]\n",
    "\n",
    "# 3      R.J. Hunter\n",
    "# 4    Jonas Jerebko\n",
    "# 5     Amir Johnson\n",
    "\n",
    "# last index is not included here"
   ]
  },
  {
   "cell_type": "code",
   "execution_count": 17,
   "id": "23d1a620",
   "metadata": {},
   "outputs": [
    {
     "data": {
      "text/plain": [
       "a    4.0\n",
       "b   -4.0\n",
       "c    3.0\n",
       "d    3.0\n",
       "e   -9.0\n",
       "dtype: float64"
      ]
     },
     "execution_count": 17,
     "metadata": {},
     "output_type": "execute_result"
    }
   ],
   "source": [
    "# binary operations on series\n",
    "\n",
    "import pandas as pd\n",
    "\n",
    "data = pd.Series([5, 2, 3, 7], index=['a', 'b', 'c', 'd'])\n",
    "\n",
    "data1 = pd.Series([1, 6, 4, 9], index=['a', 'b', 'd', 'e'])\n",
    "\n",
    "# adding two series\n",
    "data.add(data1, fill_value=0)\n",
    "# a     6.0\n",
    "# b     8.0\n",
    "# c     3.0\n",
    "# d    11.0\n",
    "# e     9.0\n",
    "\n",
    "data.sub(data1, fill_value=0)\n",
    "# a    4.0\n",
    "# b   -4.0\n",
    "# c    3.0\n",
    "# d    3.0\n",
    "# e   -9.0"
   ]
  },
  {
   "cell_type": "code",
   "execution_count": 31,
   "id": "c8910038",
   "metadata": {},
   "outputs": [
    {
     "data": {
      "text/plain": [
       "list"
      ]
     },
     "execution_count": 31,
     "metadata": {},
     "output_type": "execute_result"
    }
   ],
   "source": [
    "# conversion operation on series\n",
    "\n",
    "data = pd.read_csv(\"nba.csv\")\n",
    "\n",
    "# dropping all null values to avoid errors\n",
    "data.dropna(inplace=True)\n",
    "\n",
    "# storing dtype before converting\n",
    "data.dtypes\n",
    "# Name         object\n",
    "# Team         object\n",
    "# Number      float64\n",
    "# Position     object\n",
    "# Age         float64\n",
    "# Height       object\n",
    "# Weight      float64\n",
    "# College      object\n",
    "# Salary      float64\n",
    "\n",
    "data[\"Salary\"] = data[\"Salary\"].astype(int)\n",
    "data[\"Number\"] = data[\"Number\"].astype(str)\n",
    "\n",
    "data.dtypes\n",
    "# Name         object\n",
    "# Team         object\n",
    "# Number       object\n",
    "# Position     object\n",
    "# Age         float64\n",
    "# Height       object\n",
    "# Weight      float64\n",
    "# College      object\n",
    "# Salary        int64\n",
    "\n",
    "\n",
    "\n",
    "# converting series to list\n",
    "data = pd.read_csv(\"nba.csv\")\n",
    "data.dropna(inplace=True)\n",
    "type(data[\"Salary\"]) # pandas.core.series.Series\n",
    "\n",
    "salary_list = data[\"Salary\"].tolist()\n",
    "type(salary_list) # list"
   ]
  },
  {
   "cell_type": "markdown",
   "id": "a21a718f",
   "metadata": {},
   "source": [
    "## Dataframe"
   ]
  },
  {
   "cell_type": "code",
   "execution_count": 42,
   "id": "f366e8bf",
   "metadata": {},
   "outputs": [
    {
     "name": "stdout",
     "output_type": "stream",
     "text": [
      "   a  b  c\n",
      "0  1  2  3\n",
      "1  4  5  6\n",
      "2  7  8  9\n"
     ]
    }
   ],
   "source": [
    "# Dataframe is Two-dimensional, size-mutable, potentially heterogeneous tabular data.\n",
    "# like series, dataframe also consists of index\n",
    "# if no index provided RangeIndex is used i.e. 0, 1, 2, 3, 4...\n",
    "\n",
    "# creating df from dictionary\n",
    "\n",
    "d = {'col1': [1, 2], 'col2': [3, 4]}\n",
    "df = pd.DataFrame(data=d)\n",
    "# print(df)\n",
    "#    col1  col2\n",
    "# 0     1     3\n",
    "# 1     2     4\n",
    "\n",
    "df.dtypes\n",
    "# col1    int64\n",
    "# col2    int64\n",
    "# dtype: object\n",
    "\n",
    "\n",
    "import numpy as np\n",
    "# enforcing single dtype\n",
    "df = pd.DataFrame(data=d, dtype=np.int8)\n",
    "df.dtypes\n",
    "# col1    int8\n",
    "# col2    int8\n",
    "# dtype: object\n",
    "\n",
    "\n",
    "# constructing dataframe from numpy ndarray\n",
    "df2 = pd.DataFrame(np.array([[1, 2, 3], [4, 5, 6], [7, 8, 9]]), columns=['a', 'b', 'c'])\n",
    "# print(df2)\n",
    "#    a  b  c\n",
    "# 0  1  2  3\n",
    "# 1  4  5  6\n",
    "# 2  7  8  9"
   ]
  },
  {
   "cell_type": "code",
   "execution_count": 44,
   "id": "2802fda3",
   "metadata": {},
   "outputs": [
    {
     "data": {
      "text/html": [
       "<div>\n",
       "<style scoped>\n",
       "    .dataframe tbody tr th:only-of-type {\n",
       "        vertical-align: middle;\n",
       "    }\n",
       "\n",
       "    .dataframe tbody tr th {\n",
       "        vertical-align: top;\n",
       "    }\n",
       "\n",
       "    .dataframe thead th {\n",
       "        text-align: right;\n",
       "    }\n",
       "</style>\n",
       "<table border=\"1\" class=\"dataframe\">\n",
       "  <thead>\n",
       "    <tr style=\"text-align: right;\">\n",
       "      <th></th>\n",
       "      <th>Name</th>\n",
       "      <th>Team</th>\n",
       "      <th>Number</th>\n",
       "      <th>Position</th>\n",
       "      <th>Age</th>\n",
       "      <th>Height</th>\n",
       "      <th>Weight</th>\n",
       "      <th>College</th>\n",
       "      <th>Salary</th>\n",
       "    </tr>\n",
       "  </thead>\n",
       "  <tbody>\n",
       "    <tr>\n",
       "      <th>0</th>\n",
       "      <td>Avery Bradley</td>\n",
       "      <td>Boston Celtics</td>\n",
       "      <td>0.0</td>\n",
       "      <td>PG</td>\n",
       "      <td>25.0</td>\n",
       "      <td>6-2</td>\n",
       "      <td>180.0</td>\n",
       "      <td>Texas</td>\n",
       "      <td>7730337.0</td>\n",
       "    </tr>\n",
       "    <tr>\n",
       "      <th>1</th>\n",
       "      <td>Jae Crowder</td>\n",
       "      <td>Boston Celtics</td>\n",
       "      <td>99.0</td>\n",
       "      <td>SF</td>\n",
       "      <td>25.0</td>\n",
       "      <td>6-6</td>\n",
       "      <td>235.0</td>\n",
       "      <td>Marquette</td>\n",
       "      <td>6796117.0</td>\n",
       "    </tr>\n",
       "    <tr>\n",
       "      <th>2</th>\n",
       "      <td>John Holland</td>\n",
       "      <td>Boston Celtics</td>\n",
       "      <td>30.0</td>\n",
       "      <td>SG</td>\n",
       "      <td>27.0</td>\n",
       "      <td>6-5</td>\n",
       "      <td>205.0</td>\n",
       "      <td>Boston University</td>\n",
       "      <td>NaN</td>\n",
       "    </tr>\n",
       "    <tr>\n",
       "      <th>3</th>\n",
       "      <td>R.J. Hunter</td>\n",
       "      <td>Boston Celtics</td>\n",
       "      <td>28.0</td>\n",
       "      <td>SG</td>\n",
       "      <td>22.0</td>\n",
       "      <td>6-5</td>\n",
       "      <td>185.0</td>\n",
       "      <td>Georgia State</td>\n",
       "      <td>1148640.0</td>\n",
       "    </tr>\n",
       "    <tr>\n",
       "      <th>4</th>\n",
       "      <td>Jonas Jerebko</td>\n",
       "      <td>Boston Celtics</td>\n",
       "      <td>8.0</td>\n",
       "      <td>PF</td>\n",
       "      <td>29.0</td>\n",
       "      <td>6-10</td>\n",
       "      <td>231.0</td>\n",
       "      <td>NaN</td>\n",
       "      <td>5000000.0</td>\n",
       "    </tr>\n",
       "  </tbody>\n",
       "</table>\n",
       "</div>"
      ],
      "text/plain": [
       "            Name            Team  Number Position   Age Height  Weight  \\\n",
       "0  Avery Bradley  Boston Celtics     0.0       PG  25.0    6-2   180.0   \n",
       "1    Jae Crowder  Boston Celtics    99.0       SF  25.0    6-6   235.0   \n",
       "2   John Holland  Boston Celtics    30.0       SG  27.0    6-5   205.0   \n",
       "3    R.J. Hunter  Boston Celtics    28.0       SG  22.0    6-5   185.0   \n",
       "4  Jonas Jerebko  Boston Celtics     8.0       PF  29.0   6-10   231.0   \n",
       "\n",
       "             College     Salary  \n",
       "0              Texas  7730337.0  \n",
       "1          Marquette  6796117.0  \n",
       "2  Boston University        NaN  \n",
       "3      Georgia State  1148640.0  \n",
       "4                NaN  5000000.0  "
      ]
     },
     "execution_count": 44,
     "metadata": {},
     "output_type": "execute_result"
    }
   ],
   "source": [
    "df = pd.read_csv(\"nba.csv\")\n",
    "df.head()"
   ]
  }
 ],
 "metadata": {
  "kernelspec": {
   "display_name": "Python 3 (ipykernel)",
   "language": "python",
   "name": "python3"
  },
  "language_info": {
   "codemirror_mode": {
    "name": "ipython",
    "version": 3
   },
   "file_extension": ".py",
   "mimetype": "text/x-python",
   "name": "python",
   "nbconvert_exporter": "python",
   "pygments_lexer": "ipython3",
   "version": "3.10.7"
  }
 },
 "nbformat": 4,
 "nbformat_minor": 5
}
