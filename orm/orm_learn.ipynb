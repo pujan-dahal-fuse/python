{
 "cells": [
  {
   "cell_type": "markdown",
   "id": "a43f6326",
   "metadata": {},
   "source": [
    "## ORM"
   ]
  },
  {
   "cell_type": "code",
   "execution_count": 1,
   "id": "09e07746",
   "metadata": {},
   "outputs": [],
   "source": [
    "from sqlalchemy import create_engine\n",
    "import MySQLdb\n",
    "\n",
    "engine = create_engine(\"mysql://root:@localhost:3306/fish\", echo=True)"
   ]
  },
  {
   "cell_type": "code",
   "execution_count": 73,
   "id": "75e273cb",
   "metadata": {},
   "outputs": [],
   "source": [
    "# connection engine\n",
    "conn = engine.connect()\n",
    "# conn.execute() and engine.execute() are same"
   ]
  },
  {
   "cell_type": "code",
   "execution_count": 2,
   "id": "4824c2f3",
   "metadata": {},
   "outputs": [],
   "source": [
    "# sessions\n",
    "from sqlalchemy.orm import sessionmaker\n",
    "# session makes middle-ground between objects in Python and the engine\n",
    "# that actually communicates with the database\n",
    "\n",
    "Session = sessionmaker(bind=engine)\n",
    "session = Session()"
   ]
  },
  {
   "cell_type": "code",
   "execution_count": 79,
   "id": "12f48c58",
   "metadata": {},
   "outputs": [],
   "source": [
    "# creating tables\n",
    "# Each class will be a table in our db and each attribute\n",
    "# will be a column in this table. To map which table in \n",
    "# the db will be related to each class in our files, we \n",
    "# will use a SQLAlchemy system called Declarative\n",
    "\n",
    "\n",
    "from sqlalchemy.ext.declarative import declarative_base\n",
    "from sqlalchemy import Column, Integer, String\n",
    "\n",
    "Base = declarative_base()\n",
    "\n",
    "class User(Base):\n",
    "    __tablename__ = 'users'\n",
    "    id = Column(Integer, primary_key=True)\n",
    "    name = Column(String(255))\n",
    "    password = Column(String(255))\n",
    "    \n",
    "    def __repr__(self):\n",
    "        return f'User {self.name}'\n",
    "    \n",
    "\n",
    "# creating table in database\n",
    "Base.meta.create_all(engine)"
   ]
  },
  {
   "cell_type": "code",
   "execution_count": 81,
   "id": "cca460bc",
   "metadata": {},
   "outputs": [
    {
     "name": "stdout",
     "output_type": "stream",
     "text": [
      "None\n",
      "9\n"
     ]
    }
   ],
   "source": [
    "# adding new records\n",
    "\n",
    "user = User(name=\"Pujan Dahal\", password=\"12345678\")\n",
    "session.add(user)\n",
    "\n",
    "print(user.id) # None because the new record is only flushed i.e. recorded\n",
    "# for commit but not actually committed\n",
    "\n",
    "session.commit() # it commits all previous pending operations that were flushed\n",
    "print(user.id) # 9"
   ]
  },
  {
   "cell_type": "code",
   "execution_count": 94,
   "id": "66ca7397",
   "metadata": {},
   "outputs": [],
   "source": [
    "# querying table\n",
    "\n",
    "query = session.query(User).filter_by(name=\"Pujan Dahal\")\n",
    "query.count() # 2\n",
    "\n",
    "query = session.query(User).filter(User.name==\"John Snow\").all()\n"
   ]
  },
  {
   "cell_type": "code",
   "execution_count": 95,
   "id": "a141aa78",
   "metadata": {},
   "outputs": [],
   "source": [
    "# creating new table after initial create_all\n",
    "\n",
    "class Product(Base):\n",
    "    __tablename__ = 'products'\n",
    "    \n",
    "    id = Column(Integer, primary_key=True)\n",
    "    name = Column(String(255))\n",
    "    \n",
    "\n",
    "Product.__table__.create(engine) # creates new table in database"
   ]
  },
  {
   "cell_type": "code",
   "execution_count": 5,
   "id": "2b156a30",
   "metadata": {},
   "outputs": [
    {
     "name": "stdout",
     "output_type": "stream",
     "text": [
      "2022-09-15 13:43:58,196 INFO sqlalchemy.engine.base.Engine SHOW VARIABLES LIKE 'sql_mode'\n",
      "2022-09-15 13:43:58,198 INFO sqlalchemy.engine.base.Engine ()\n",
      "2022-09-15 13:43:58,200 INFO sqlalchemy.engine.base.Engine SHOW VARIABLES LIKE 'lower_case_table_names'\n",
      "2022-09-15 13:43:58,200 INFO sqlalchemy.engine.base.Engine ()\n",
      "2022-09-15 13:43:58,202 INFO sqlalchemy.engine.base.Engine SELECT DATABASE()\n",
      "2022-09-15 13:43:58,204 INFO sqlalchemy.engine.base.Engine ()\n",
      "2022-09-15 13:43:58,205 INFO sqlalchemy.engine.base.Engine show collation where `Charset` = 'utf8mb4' and `Collation` = 'utf8mb4_bin'\n",
      "2022-09-15 13:43:58,206 INFO sqlalchemy.engine.base.Engine ()\n",
      "2022-09-15 13:43:58,208 INFO sqlalchemy.engine.base.Engine SELECT CAST('test plain returns' AS CHAR(60)) AS anon_1\n",
      "2022-09-15 13:43:58,209 INFO sqlalchemy.engine.base.Engine ()\n",
      "2022-09-15 13:43:58,211 INFO sqlalchemy.engine.base.Engine SELECT CAST('test unicode returns' AS CHAR(60)) AS anon_1\n",
      "2022-09-15 13:43:58,213 INFO sqlalchemy.engine.base.Engine ()\n",
      "2022-09-15 13:43:58,214 INFO sqlalchemy.engine.base.Engine SELECT CAST('test collated returns' AS CHAR CHARACTER SET utf8mb4) COLLATE utf8mb4_bin AS anon_1\n",
      "2022-09-15 13:43:58,215 INFO sqlalchemy.engine.base.Engine ()\n",
      "2022-09-15 13:43:58,218 INFO sqlalchemy.engine.base.Engine DESCRIBE `product`\n",
      "2022-09-15 13:43:58,219 INFO sqlalchemy.engine.base.Engine ()\n",
      "2022-09-15 13:43:58,221 INFO sqlalchemy.engine.base.Engine ROLLBACK\n",
      "2022-09-15 13:43:58,222 INFO sqlalchemy.engine.base.Engine DESCRIBE `user`\n",
      "2022-09-15 13:43:58,223 INFO sqlalchemy.engine.base.Engine ()\n",
      "2022-09-15 13:43:58,224 INFO sqlalchemy.engine.base.Engine ROLLBACK\n",
      "2022-09-15 13:43:58,226 INFO sqlalchemy.engine.base.Engine \n",
      "CREATE TABLE user (\n",
      "\tid INTEGER NOT NULL AUTO_INCREMENT, \n",
      "\tname VARCHAR(255), \n",
      "\tpassword VARCHAR(255), \n",
      "\tPRIMARY KEY (id)\n",
      ")\n",
      "\n",
      "\n",
      "2022-09-15 13:43:58,227 INFO sqlalchemy.engine.base.Engine ()\n",
      "2022-09-15 13:43:58,258 INFO sqlalchemy.engine.base.Engine COMMIT\n",
      "2022-09-15 13:43:58,260 INFO sqlalchemy.engine.base.Engine \n",
      "CREATE TABLE product (\n",
      "\tid INTEGER NOT NULL AUTO_INCREMENT, \n",
      "\tname VARCHAR(255), \n",
      "\tuser_id INTEGER, \n",
      "\tPRIMARY KEY (id), \n",
      "\tFOREIGN KEY(user_id) REFERENCES user (id)\n",
      ")\n",
      "\n",
      "\n",
      "2022-09-15 13:43:58,260 INFO sqlalchemy.engine.base.Engine ()\n",
      "2022-09-15 13:43:58,268 INFO sqlalchemy.engine.base.Engine COMMIT\n",
      "2022-09-15 13:43:58,274 INFO sqlalchemy.engine.base.Engine BEGIN (implicit)\n",
      "2022-09-15 13:43:58,276 INFO sqlalchemy.engine.base.Engine INSERT INTO user (name, password) VALUES (%s, %s)\n",
      "2022-09-15 13:43:58,277 INFO sqlalchemy.engine.base.Engine ('John', None)\n",
      "2022-09-15 13:43:58,279 INFO sqlalchemy.engine.base.Engine INSERT INTO product (name, user_id) VALUES (%s, %s)\n",
      "2022-09-15 13:43:58,281 INFO sqlalchemy.engine.base.Engine ('fogg', 1)\n",
      "2022-09-15 13:43:58,283 INFO sqlalchemy.engine.base.Engine COMMIT\n"
     ]
    }
   ],
   "source": [
    "# creating foreign key relationship\n",
    "from sqlalchemy.ext.declarative import declarative_base\n",
    "from sqlalchemy import Column, ForeignKey, Integer, String\n",
    "from sqlalchemy.orm import relationship\n",
    "\n",
    "Base = declarative_base()\n",
    "\n",
    "class Product(Base):\n",
    "    __tablename__ = 'product'\n",
    "    \n",
    "    id = Column(Integer, primary_key=True)\n",
    "    name = Column(String(255))\n",
    "    user_id = Column(Integer, ForeignKey('user.id'))\n",
    "    user = relationship('User')\n",
    "    \n",
    "    def __repr__(self):\n",
    "        return f\"Product {self.name}\"\n",
    "        \n",
    "    \n",
    "class User(Base):\n",
    "    __tablename__ = 'user'\n",
    "    id = Column(Integer, primary_key=True)\n",
    "    name = Column(String(255))\n",
    "    password = Column(String(255))\n",
    "    products = relationship(Product, backref='users')\n",
    "    \n",
    "    \n",
    "    def __repr__(self):\n",
    "        return f\"User {user.name}\"\n",
    "        \n",
    "\n",
    "# create tables\n",
    "Base.metadata.create_all(engine)\n",
    "\n",
    "user = User(name='John')\n",
    "product = Product(name='fogg', user=user)\n",
    "\n",
    "session.add_all([user, product])\n",
    "session.commit()\n",
    "    \n",
    "\n"
   ]
  }
 ],
 "metadata": {
  "kernelspec": {
   "display_name": "Python 3 (ipykernel)",
   "language": "python",
   "name": "python3"
  },
  "language_info": {
   "codemirror_mode": {
    "name": "ipython",
    "version": 3
   },
   "file_extension": ".py",
   "mimetype": "text/x-python",
   "name": "python",
   "nbconvert_exporter": "python",
   "pygments_lexer": "ipython3",
   "version": "3.10.7"
  }
 },
 "nbformat": 4,
 "nbformat_minor": 5
}
