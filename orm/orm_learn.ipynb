{
 "cells": [
  {
   "cell_type": "markdown",
   "id": "a43f6326",
   "metadata": {},
   "source": [
    "## ORM learn"
   ]
  },
  {
   "cell_type": "code",
   "execution_count": null,
   "id": "09e07746",
   "metadata": {},
   "outputs": [],
   "source": [
    "from sqlalchemy import create_engine\n",
    "import MySQLdb\n",
    "\n",
    "engine = create_engine(\"mysql://root:@localhost:3306/fish\", echo=True)"
   ]
  },
  {
   "cell_type": "code",
   "execution_count": null,
   "id": "75e273cb",
   "metadata": {},
   "outputs": [],
   "source": [
    "# connection engine\n",
    "conn = engine.connect()\n",
    "# conn.execute() and engine.execute() are same"
   ]
  },
  {
   "cell_type": "code",
   "execution_count": null,
   "id": "4824c2f3",
   "metadata": {},
   "outputs": [],
   "source": [
    "# sessions\n",
    "from sqlalchemy.orm import sessionmaker\n",
    "# session makes middle-ground between objects in Python and the engine\n",
    "# that actually communicates with the database\n",
    "\n",
    "Session = sessionmaker(bind=engine)\n",
    "session = Session()"
   ]
  },
  {
   "cell_type": "code",
   "execution_count": null,
   "id": "12f48c58",
   "metadata": {},
   "outputs": [],
   "source": [
    "# creating tables\n",
    "# Each class will be a table in our db and each attribute\n",
    "# will be a column in this table. To map which table in \n",
    "# the db will be related to each class in our files, we \n",
    "# will use a SQLAlchemy system called Declarative\n",
    "\n",
    "\n",
    "from sqlalchemy.ext.declarative import declarative_base\n",
    "from sqlalchemy import Column, Integer, String\n",
    "\n",
    "Base = declarative_base()\n",
    "\n",
    "class User(Base):\n",
    "    __tablename__ = 'users'\n",
    "    id = Column(Integer, primary_key=True)\n",
    "    name = Column(String(255))\n",
    "    password = Column(String(255))\n",
    "    \n",
    "    def __repr__(self):\n",
    "        return f'User {self.name}'\n",
    "    \n",
    "\n",
    "# creating table in database\n",
    "Base.meta.create_all(engine)"
   ]
  },
  {
   "cell_type": "code",
   "execution_count": null,
   "id": "cca460bc",
   "metadata": {},
   "outputs": [],
   "source": [
    "# adding new records\n",
    "\n",
    "user = User(name=\"Pujan Dahal\", password=\"12345678\")\n",
    "session.add(user)\n",
    "\n",
    "print(user.id) # None because the new record is only flushed i.e. recorded\n",
    "# for commit but not actually committed\n",
    "\n",
    "session.commit() # it commits all previous pending operations that were flushed\n",
    "print(user.id) # 9"
   ]
  },
  {
   "cell_type": "code",
   "execution_count": null,
   "id": "66ca7397",
   "metadata": {},
   "outputs": [],
   "source": [
    "# querying table\n",
    "\n",
    "query = session.query(User).filter_by(name=\"Pujan Dahal\")\n",
    "query.count() # 2\n",
    "\n",
    "query = session.query(User).filter(User.name==\"John Snow\").all()\n"
   ]
  },
  {
   "cell_type": "code",
   "execution_count": null,
   "id": "a141aa78",
   "metadata": {},
   "outputs": [],
   "source": [
    "# creating new table after initial create_all\n",
    "\n",
    "class Product(Base):\n",
    "    __tablename__ = 'products'\n",
    "    \n",
    "    id = Column(Integer, primary_key=True)\n",
    "    name = Column(String(255))\n",
    "    \n",
    "\n",
    "Product.__table__.create(engine) # creates new table in database"
   ]
  },
  {
   "cell_type": "code",
   "execution_count": null,
   "id": "2b156a30",
   "metadata": {},
   "outputs": [],
   "source": [
    "# creating foreign key relationship\n",
    "from sqlalchemy.ext.declarative import declarative_base\n",
    "from sqlalchemy import Column, ForeignKey, Integer, String\n",
    "from sqlalchemy.orm import relationship\n",
    "\n",
    "Base = declarative_base()\n",
    "\n",
    "class Product(Base):\n",
    "    __tablename__ = 'product'\n",
    "    \n",
    "    id = Column(Integer, primary_key=True)\n",
    "    name = Column(String(255))\n",
    "    user_id = Column(Integer, ForeignKey('user.id'))\n",
    "    user = relationship('User')\n",
    "    \n",
    "    def __repr__(self):\n",
    "        return f\"Product {self.name}\"\n",
    "        \n",
    "    \n",
    "class User(Base):\n",
    "    __tablename__ = 'user'\n",
    "    id = Column(Integer, primary_key=True)\n",
    "    name = Column(String(255))\n",
    "    password = Column(String(255))\n",
    "    products = relationship(Product, backref='users')\n",
    "    \n",
    "    \n",
    "    def __repr__(self):\n",
    "        return f\"User {user.name}\"\n",
    "        \n",
    "\n",
    "# create tables\n",
    "Base.metadata.create_all(engine)\n",
    "\n",
    "user = User(name='John')\n",
    "product = Product(name='fogg', user=user)\n",
    "\n",
    "session.add_all([user, product])\n",
    "session.commit()"
   ]
  },
  {
   "cell_type": "markdown",
   "id": "a703198c",
   "metadata": {},
   "source": [
    "## ORM Practice"
   ]
  },
  {
   "cell_type": "markdown",
   "id": "4c7299ea",
   "metadata": {},
   "source": [
    "### Create engine"
   ]
  },
  {
   "cell_type": "code",
   "execution_count": 1,
   "id": "46141311",
   "metadata": {},
   "outputs": [
    {
     "name": "stdout",
     "output_type": "stream",
     "text": [
      "['Bonus', 'Title', 'Worker', 'WorkerClone']\n"
     ]
    }
   ],
   "source": [
    "# importing create_engine from sqlalchemy to interact with our database\n",
    "from sqlalchemy import create_engine, inspect\n",
    "\n",
    "# create an engine that communicates with your database\n",
    "engine = create_engine(\"mysql://root:@127.0.0.1:3306/ORG\")\n",
    "conn = engine.connect() # a connection to the engine which we will later use to execute commands on the database\n",
    "\n",
    "# engine.table_names() is deprecated, so we have to use an additional entity called inspector\n",
    "inspector = inspect(engine)\n",
    "print(inspector.get_table_names()) # ['Bonus', 'Title', 'WORKER', 'Worker', 'WorkerClone']: this is the current list of tables"
   ]
  },
  {
   "cell_type": "markdown",
   "id": "7e9ffd94",
   "metadata": {},
   "source": [
    "### Dropping a table"
   ]
  },
  {
   "cell_type": "code",
   "execution_count": null,
   "id": "9b312712",
   "metadata": {},
   "outputs": [],
   "source": [
    "# dropping tables WORKER and WorkerClone\n",
    "# we need to create metadata object that associates with database\n",
    "# The MetaData object contains all of the schema constructs we’ve associated with it.\n",
    "\n",
    "from sqlalchemy import MetaData, Table, select\n",
    "\n",
    "metadata = MetaData()\n",
    "WORKER = Table('WORKER', metadata, autoload=True, autoload_with=engine)\n",
    "\n",
    "stmt = select([WORKER])\n",
    "results_proxy = conn.execute(stmt) # this gives results_proxy\n",
    "results_proxy.rowcount # 5 because there are 5 records in the table\n",
    "for records in results_proxy.fetchall():\n",
    "    print(records)\n",
    "# (2, 'Niharika', 'Verma', 80000, datetime.datetime(2014, 6, 11, 9, 0), 'Admin')\n",
    "# (3, 'Vishal', 'Singhal', 300000, datetime.datetime(2014, 2, 20, 9, 0), 'HR')\n",
    "# (4, 'Amitabh', 'Singh', 500000, datetime.datetime(2014, 2, 20, 9, 0), 'Admin')\n",
    "# (7, 'Satish', 'Kumar', 75000, datetime.datetime(2014, 1, 20, 9, 0), 'Account')\n",
    "# (8, 'Geetika', 'Chauhan', 90000, datetime.datetime(2014, 4, 11, 9, 0), 'Admin')\n",
    "\n",
    "WORKER.drop(engine)"
   ]
  },
  {
   "cell_type": "code",
   "execution_count": 6,
   "id": "65ea18b6",
   "metadata": {},
   "outputs": [
    {
     "data": {
      "text/plain": [
       "['Bonus', 'Title', 'Worker', 'WorkerClone']"
      ]
     },
     "execution_count": 6,
     "metadata": {},
     "output_type": "execute_result"
    }
   ],
   "source": [
    "inspector.get_table_names() # ['Bonus', 'Title', 'Worker', 'WorkerClone']"
   ]
  },
  {
   "cell_type": "code",
   "execution_count": null,
   "id": "e2373fec",
   "metadata": {},
   "outputs": [],
   "source": [
    "WorkerClone = Table('WorkerClone', metadata, autoload=True, autoload_with=engine)\n",
    "WorkerClone.drop(engine)"
   ]
  },
  {
   "cell_type": "code",
   "execution_count": 15,
   "id": "8aed3d93",
   "metadata": {},
   "outputs": [
    {
     "data": {
      "text/plain": [
       "['Bonus', 'Title', 'Worker']"
      ]
     },
     "execution_count": 15,
     "metadata": {},
     "output_type": "execute_result"
    }
   ],
   "source": [
    "inspector = inspect(engine)\n",
    "inspector.get_table_names() # ['Bonus', 'Title', 'Worker']"
   ]
  },
  {
   "cell_type": "markdown",
   "id": "664bf826",
   "metadata": {},
   "source": [
    "### Querying tables"
   ]
  },
  {
   "cell_type": "code",
   "execution_count": 19,
   "id": "54cd8a81",
   "metadata": {},
   "outputs": [
    {
     "name": "stdout",
     "output_type": "stream",
     "text": [
      "1 Monika 100000\n",
      "2 Niharika 80000\n",
      "3 Vishal 300000\n",
      "4 Amitabh 500000\n",
      "5 Vivek 500000\n",
      "6 Vipul 200000\n",
      "7 Satish 75000\n",
      "8 Geetika 90000\n"
     ]
    }
   ],
   "source": [
    "# Display id, firstname and salary of all records in Worker\n",
    "\n",
    "worker = Table('Worker', metadata, autoload=True, autoload_with=engine)\n",
    "\n",
    "stmt = select([worker])\n",
    "# to get the list of names of columns\n",
    "first_record = conn.execute(stmt).first()\n",
    "\n",
    "first_record.keys()\n",
    "# ['WORKER_ID',\n",
    "#  'FIRST_NAME',\n",
    "#  'LAST_NAME',\n",
    "#  'SALARY',\n",
    "#  'JOINING_DATE',\n",
    "#  'DEPARTMENT']\n",
    "\n",
    "for result in conn.execute(stmt).fetchall():\n",
    "    print(result.WORKER_ID, result.FIRST_NAME, result.SALARY)\n",
    "\n",
    "# 1 Monika 100000\n",
    "# 2 Niharika 80000\n",
    "# 3 Vishal 300000\n",
    "# 4 Amitabh 500000\n",
    "# 5 Vivek 500000\n",
    "# 6 Vipul 200000\n",
    "# 7 Satish 75000\n",
    "# 8 Geetika 90000"
   ]
  },
  {
   "cell_type": "code",
   "execution_count": 22,
   "id": "702e9ef7",
   "metadata": {},
   "outputs": [
    {
     "name": "stdout",
     "output_type": "stream",
     "text": [
      "[(4, 'Amitabh', 'Singh', 500000, datetime.datetime(2014, 2, 20, 9, 0), 'Admin')]\n"
     ]
    }
   ],
   "source": [
    "# display worker with max salary\n",
    "from sqlalchemy import desc\n",
    "\n",
    "stmt = select([worker])\n",
    "stmt = stmt.order_by(desc(worker.columns.SALARY))\n",
    "stmt = stmt.limit(1)\n",
    "\n",
    "print(conn.execute(stmt).fetchall())\n",
    "# [(4, 'Amitabh', 'Singh', 500000, datetime.datetime(2014, 2, 20, 9, 0), 'Admin')]"
   ]
  },
  {
   "cell_type": "code",
   "execution_count": 25,
   "id": "7ff2c9ea",
   "metadata": {},
   "outputs": [
    {
     "name": "stdout",
     "output_type": "stream",
     "text": [
      "5\n",
      "(1, 'Monika', 'Arora', 100000, datetime.datetime(2014, 2, 20, 9, 0), 'HR')\n",
      "(3, 'Vishal', 'Singhal', 300000, datetime.datetime(2014, 2, 20, 9, 0), 'HR')\n",
      "(4, 'Amitabh', 'Singh', 500000, datetime.datetime(2014, 2, 20, 9, 0), 'Admin')\n",
      "(5, 'Vivek', 'Bhati', 500000, datetime.datetime(2014, 6, 11, 9, 0), 'Admin')\n",
      "(6, 'Vipul', 'Diwan', 200000, datetime.datetime(2014, 6, 11, 9, 0), 'Account')\n"
     ]
    }
   ],
   "source": [
    "# count number of worker with salary >= 100000\n",
    "from sqlalchemy import func\n",
    "\n",
    "stmt = select([func.count(worker.columns.WORKER_ID)])\n",
    "stmt = stmt.where(worker.columns.SALARY >= 100000)\n",
    "\n",
    "print(conn.execute(stmt).scalar()) # 5\n",
    "\n",
    "# print all records with salary >= 10000\n",
    "stmt = select([worker])\n",
    "stmt = stmt.where(worker.columns.SALARY >= 100000)\n",
    "\n",
    "for record in conn.execute(stmt).fetchall():\n",
    "    print(record)\n",
    "# (1, 'Monika', 'Arora', 100000, datetime.datetime(2014, 2, 20, 9, 0), 'HR')\n",
    "# (3, 'Vishal', 'Singhal', 300000, datetime.datetime(2014, 2, 20, 9, 0), 'HR')\n",
    "# (4, 'Amitabh', 'Singh', 500000, datetime.datetime(2014, 2, 20, 9, 0), 'Admin')\n",
    "# (5, 'Vivek', 'Bhati', 500000, datetime.datetime(2014, 6, 11, 9, 0), 'Admin')\n",
    "# (6, 'Vipul', 'Diwan', 200000, datetime.datetime(2014, 6, 11, 9, 0), 'Account')"
   ]
  },
  {
   "cell_type": "code",
   "execution_count": 30,
   "id": "856a3319",
   "metadata": {},
   "outputs": [
    {
     "name": "stdout",
     "output_type": "stream",
     "text": [
      "Admin 1170000\n",
      "HR 400000\n",
      "Account 275000\n"
     ]
    }
   ],
   "source": [
    "# calculate total salary of people in each department\n",
    "stmt = select([worker.columns.DEPARTMENT.label('department'), \n",
    "               func.sum(worker.columns.SALARY).label('department_total')])\n",
    "stmt = stmt.group_by(worker.columns.DEPARTMENT)\n",
    "stmt = stmt.order_by(desc('department_total'))\n",
    "results = conn.execute(stmt).fetchall()\n",
    "for result in results:\n",
    "    print(result.department, result.department_total)\n",
    "\n",
    "# Admin 1170000\n",
    "# HR 400000\n",
    "# Account 275000"
   ]
  },
  {
   "cell_type": "code",
   "execution_count": 47,
   "id": "3752da0d",
   "metadata": {},
   "outputs": [
    {
     "name": "stdout",
     "output_type": "stream",
     "text": [
      "(1, 5000, datetime.datetime(2016, 2, 20, 0, 0))\n",
      "(2, 3000, datetime.datetime(2016, 6, 11, 0, 0))\n",
      "(3, 4000, datetime.datetime(2016, 2, 20, 0, 0))\n",
      "(1, 4500, datetime.datetime(2016, 2, 20, 0, 0))\n",
      "(2, 3500, datetime.datetime(2016, 6, 11, 0, 0))\n"
     ]
    }
   ],
   "source": [
    "# another way to reflect tables\n",
    "metadata = MetaData(bind=engine)\n",
    "MetaData.reflect(metadata)\n",
    "\n",
    "# reflect table\n",
    "bonus = metadata.tables['Bonus']\n",
    "\n",
    "stmt = select([bonus])\n",
    "for record in conn.execute(stmt).fetchall():\n",
    "    print(record)\n",
    "    \n",
    "# (1, 5000, datetime.datetime(2016, 2, 20, 0, 0))\n",
    "# (2, 3000, datetime.datetime(2016, 6, 11, 0, 0))\n",
    "# (3, 4000, datetime.datetime(2016, 2, 20, 0, 0))\n",
    "# (1, 4500, datetime.datetime(2016, 2, 20, 0, 0))\n",
    "# (2, 3500, datetime.datetime(2016, 6, 11, 0, 0))"
   ]
  }
 ],
 "metadata": {
  "kernelspec": {
   "display_name": "Python 3 (ipykernel)",
   "language": "python",
   "name": "python3"
  },
  "language_info": {
   "codemirror_mode": {
    "name": "ipython",
    "version": 3
   },
   "file_extension": ".py",
   "mimetype": "text/x-python",
   "name": "python",
   "nbconvert_exporter": "python",
   "pygments_lexer": "ipython3",
   "version": "3.10.7"
  }
 },
 "nbformat": 4,
 "nbformat_minor": 5
}
