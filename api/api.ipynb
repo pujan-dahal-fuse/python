{
 "cells": [
  {
   "cell_type": "code",
   "execution_count": 2,
   "id": "ec6b9e89",
   "metadata": {},
   "outputs": [],
   "source": [
    "import requests"
   ]
  },
  {
   "cell_type": "code",
   "execution_count": 9,
   "id": "50914ea1",
   "metadata": {},
   "outputs": [],
   "source": [
    "# requesting new york times api for giving list of best seller books\n",
    "response = requests.get(\"https://api.nytimes.com/svc/books/v3/lists/best-sellers/history.json\")"
   ]
  },
  {
   "cell_type": "code",
   "execution_count": 10,
   "id": "daf3d923",
   "metadata": {},
   "outputs": [
    {
     "name": "stdout",
     "output_type": "stream",
     "text": [
      "401\n"
     ]
    }
   ],
   "source": [
    "print(response.status_code) # 401 because we are not authenticated\n",
    "# API status codes\n",
    "# 201: successful request\n",
    "# 301: server is redirecting you to a different endpoint\n",
    "# 400: bad request\n",
    "# 401: not authenticated\n",
    "# 403: resource forbidden\n",
    "# 404: recource not found\n",
    "# 503: server is not ready to handle the request"
   ]
  },
  {
   "cell_type": "code",
   "execution_count": 18,
   "id": "a2424110",
   "metadata": {},
   "outputs": [
    {
     "name": "stdout",
     "output_type": "stream",
     "text": [
      "200\n",
      "10\n",
      "{'number': 10, 'people': [{'name': 'Oleg Artemyev', 'craft': 'ISS'}, {'name': 'Denis Matveev', 'craft': 'ISS'}, {'name': 'Sergey Korsakov', 'craft': 'ISS'}, {'name': 'Kjell Lindgren', 'craft': 'ISS'}, {'name': 'Bob Hines', 'craft': 'ISS'}, {'name': 'Samantha Cristoforetti', 'craft': 'ISS'}, {'name': 'Jessica Watkins', 'craft': 'ISS'}, {'name': 'Cai Xuzhe', 'craft': 'Tiangong'}, {'name': 'Chen Dong', 'craft': 'Tiangong'}, {'name': 'Liu Yang', 'craft': 'Tiangong'}], 'message': 'success'}\n"
     ]
    }
   ],
   "source": [
    "# open-notify api gives information about the international space station\n",
    "\n",
    "# http:/api.open-notify.org/astros.json\n",
    "# gives answer to: \"how many humans are in the space right now ?\"\n",
    "\n",
    "response = requests.get(\"http://api.open-notify.org/astros.json\")\n",
    "print(response.status_code) # 200 i.e. request was successful\n",
    "\n",
    "print(response.json()[\"number\"]) # 10 i.e. there are 10 people in space\n",
    "\n",
    "print(response.json())"
   ]
  },
  {
   "cell_type": "code",
   "execution_count": 20,
   "id": "8ffcfb78",
   "metadata": {},
   "outputs": [
    {
     "name": "stdout",
     "output_type": "stream",
     "text": [
      "{\n",
      "    \"message\": \"success\",\n",
      "    \"number\": 10,\n",
      "    \"people\": [\n",
      "        {\n",
      "            \"craft\": \"ISS\",\n",
      "            \"name\": \"Oleg Artemyev\"\n",
      "        },\n",
      "        {\n",
      "            \"craft\": \"ISS\",\n",
      "            \"name\": \"Denis Matveev\"\n",
      "        },\n",
      "        {\n",
      "            \"craft\": \"ISS\",\n",
      "            \"name\": \"Sergey Korsakov\"\n",
      "        },\n",
      "        {\n",
      "            \"craft\": \"ISS\",\n",
      "            \"name\": \"Kjell Lindgren\"\n",
      "        },\n",
      "        {\n",
      "            \"craft\": \"ISS\",\n",
      "            \"name\": \"Bob Hines\"\n",
      "        },\n",
      "        {\n",
      "            \"craft\": \"ISS\",\n",
      "            \"name\": \"Samantha Cristoforetti\"\n",
      "        },\n",
      "        {\n",
      "            \"craft\": \"ISS\",\n",
      "            \"name\": \"Jessica Watkins\"\n",
      "        },\n",
      "        {\n",
      "            \"craft\": \"Tiangong\",\n",
      "            \"name\": \"Cai Xuzhe\"\n",
      "        },\n",
      "        {\n",
      "            \"craft\": \"Tiangong\",\n",
      "            \"name\": \"Chen Dong\"\n",
      "        },\n",
      "        {\n",
      "            \"craft\": \"Tiangong\",\n",
      "            \"name\": \"Liu Yang\"\n",
      "        }\n",
      "    ]\n",
      "}\n"
     ]
    }
   ],
   "source": [
    "# JSON: Java Script Object Notation\n",
    "# it is the language of the APIs. It is a way to encode data structures\n",
    "# that ensure that they are readable by machines\n",
    "# api's send response and receive requests in JSON format\n",
    "# use json library for operating on json data\n",
    "\n",
    "import json\n",
    "\n",
    "def jprint(obj):\n",
    "    \"\"\"\n",
    "    create formatted string of python JSON object\n",
    "    \"\"\"\n",
    "    text = json.dumps(obj, sort_keys=False, indent=4)\n",
    "    print(text)\n",
    "\n",
    "jprint(response.json())"
   ]
  },
  {
   "cell_type": "code",
   "execution_count": 32,
   "id": "3c41dbce",
   "metadata": {},
   "outputs": [
    {
     "name": "stdout",
     "output_type": "stream",
     "text": [
      "{\n",
      "    \"iss_position\": {\n",
      "        \"latitude\": \"13.8849\",\n",
      "        \"longitude\": \"-24.7225\"\n",
      "    },\n",
      "    \"message\": \"success\",\n",
      "    \"timestamp\": 1663051520\n",
      "}\n"
     ]
    }
   ],
   "source": [
    "# http://api.open-notify.org/iss-now.json\n",
    "# current location of ISS\n",
    "\n",
    "response = requests.get(\"http://api.open-notify.org/iss-now.json\")\n",
    "# print(response.json())\n",
    "jprint(response.json())\n"
   ]
  },
  {
   "cell_type": "code",
   "execution_count": 34,
   "id": "079e1fc9",
   "metadata": {},
   "outputs": [
    {
     "name": "stdout",
     "output_type": "stream",
     "text": [
      "{\n",
      "    \"city\": \"\",\n",
      "    \"continent\": \"\",\n",
      "    \"continentCode\": \"\",\n",
      "    \"latitude\": 13.8849,\n",
      "    \"locality\": \"Atlantic Ocean\",\n",
      "    \"localityInfo\": {\n",
      "        \"administrative\": [],\n",
      "        \"informative\": [\n",
      "            {\n",
      "                \"description\": \"ocean between Europe, Africa and the Americas\",\n",
      "                \"geonameId\": 3373405,\n",
      "                \"name\": \"Atlantic Ocean\",\n",
      "                \"order\": 1,\n",
      "                \"wikidataId\": \"Q97\"\n",
      "            }\n",
      "        ]\n",
      "    },\n",
      "    \"localityLanguageRequested\": \"en\",\n",
      "    \"longitude\": -24.7225,\n",
      "    \"lookupSource\": \"coordinates\",\n",
      "    \"plusCode\": \"795QV7MH+X2\",\n",
      "    \"postcode\": \"\",\n",
      "    \"principalSubdivision\": \"\",\n",
      "    \"principalSubdivisionCode\": \"\"\n",
      "}\n"
     ]
    }
   ],
   "source": [
    "# using the latitude and longitude received to geocode the location using\n",
    "# https://api.bigdatacloud.net/data/reverse-geocode-client api\n",
    "\n",
    "parameters = response.json()[\"iss_position\"]\n",
    "parameters[\"localityLanguage\"] = \"en\"\n",
    "\n",
    "location_response = requests.get(\"https://api.bigdatacloud.net/data/reverse-geocode-client\", params = parameters)\n",
    "\n",
    "jprint(location_response.json())"
   ]
  },
  {
   "cell_type": "code",
   "execution_count": null,
   "id": "37e1608d",
   "metadata": {},
   "outputs": [],
   "source": [
    "# information on fish species via\n",
    "# https://www.fishwatch.gov/api/species api\n",
    "\n",
    "# requesting information on salmon species\n",
    "response = requests.get(\"https://www.fishwatch.gov/api/species/red-snapper\")\n",
    "# jprint(response.json())\n",
    "\n",
    "\n",
    "#IMDB api\n",
    "response = requests.get(\"https://poetrydb.org/author/William Wordsworth\")\n",
    "jprint(response.json())"
   ]
  }
 ],
 "metadata": {
  "kernelspec": {
   "display_name": "Python 3.10.7 64-bit",
   "language": "python",
   "name": "python3"
  },
  "language_info": {
   "codemirror_mode": {
    "name": "ipython",
    "version": 3
   },
   "file_extension": ".py",
   "mimetype": "text/x-python",
   "name": "python",
   "nbconvert_exporter": "python",
   "pygments_lexer": "ipython3",
   "version": "3.10.7"
  },
  "vscode": {
   "interpreter": {
    "hash": "e7370f93d1d0cde622a1f8e1c04877d8463912d04d973331ad4851f04de6915a"
   }
  }
 },
 "nbformat": 4,
 "nbformat_minor": 5
}
